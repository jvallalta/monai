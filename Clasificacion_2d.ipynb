{
  "nbformat": 4,
  "nbformat_minor": 0,
  "metadata": {
    "colab": {
      "name": "Clasificacion_2d.ipynb",
      "provenance": [],
      "authorship_tag": "ABX9TyOQqtNAVl840Z9pHPat1MqZ",
      "include_colab_link": true
    },
    "kernelspec": {
      "name": "python3",
      "display_name": "Python 3"
    },
    "language_info": {
      "name": "python"
    },
    "accelerator": "GPU"
  },
  "cells": [
    {
      "cell_type": "markdown",
      "metadata": {
        "id": "view-in-github",
        "colab_type": "text"
      },
      "source": [
        "<a href=\"https://colab.research.google.com/github/jvallalta/monai/blob/main/Clasificacion_2d.ipynb\" target=\"_parent\"><img src=\"https://colab.research.google.com/assets/colab-badge.svg\" alt=\"Open In Colab\"/></a>"
      ]
    },
    {
      "cell_type": "markdown",
      "metadata": {
        "id": "TiXCOoMRJ6ZB"
      },
      "source": [
        "# Tutorial de clasificación de imágenes médicas con el conjunto de datos MedNIST\n",
        "\n",
        "En este tutorial, presentamos un ejemplo de evaluación y entrenamiento end-to-end basado en el conjunto de datos de MedNIST.\n",
        "\n",
        "Consisitirá en los siguientes pasos:\n",
        "\n",
        "- Crear un conjunto de datos para entrenamiento y pruebas.\n",
        "- Utilice transformaciones MONAI para preprocesar datos.\n",
        "- Utilice DenseNet de MONAI para la clasificación.\n",
        "- Entrene el modelo con un programa PyTorch.\n",
        "- Evaluar en el conjunto de datos de prueba.\n",
        "\n",
        "\n",
        "\n"
      ]
    },
    {
      "cell_type": "markdown",
      "metadata": {
        "id": "tJ-ynqPoKWlq"
      },
      "source": [
        "# Configuración del entorno"
      ]
    },
    {
      "cell_type": "code",
      "metadata": {
        "colab": {
          "base_uri": "https://localhost:8080/"
        },
        "id": "hCI-RBnhJlp1",
        "outputId": "23c8923a-11a7-4b4d-f795-dc0dee62b872"
      },
      "source": [
        "!python -c \"import monai\" || pip install -q \"monai-weekly[pillow, tqdm]\"\n",
        "!python -c \"import matplotlib\" || pip install -q matplotlib\n",
        "%matplotlib inline"
      ],
      "execution_count": 2,
      "outputs": [
        {
          "output_type": "stream",
          "text": [
            "Traceback (most recent call last):\n",
            "  File \"<string>\", line 1, in <module>\n",
            "ModuleNotFoundError: No module named 'monai'\n",
            "\u001b[K     |████████████████████████████████| 606 kB 3.9 MB/s \n",
            "\u001b[K     |████████████████████████████████| 76 kB 3.7 MB/s \n",
            "\u001b[?25h"
          ],
          "name": "stdout"
        }
      ]
    },
    {
      "cell_type": "markdown",
      "metadata": {
        "id": "px4UtHzYKjsD"
      },
      "source": [
        "# Imports"
      ]
    },
    {
      "cell_type": "code",
      "metadata": {
        "colab": {
          "base_uri": "https://localhost:8080/"
        },
        "id": "7ZROnBFmKsUO",
        "outputId": "aa2a4ff6-c4a9-4d5a-d831-923a1c297aa9"
      },
      "source": [
        "#Copyright 2020 MONAI Consortium\n",
        "# Licensed under the Apache License, Version 2.0 (the \"License\");\n",
        "# you may not use this file except in compliance with the License.\n",
        "# You may obtain a copy of the License at\n",
        "#     http://www.apache.org/licenses/LICENSE-2.0\n",
        "# Unless required by applicable law or agreed to in writing, software\n",
        "# distributed under the License is distributed on an \"AS IS\" BASIS,\n",
        "# WITHOUT WARRANTIES OR CONDITIONS OF ANY KIND, either express or implied.\n",
        "# See the License for the specific language governing permissions and\n",
        "# limitations under the License.\n",
        "\n",
        "import os\n",
        "import shutil\n",
        "import tempfile\n",
        "import matplotlib.pyplot as plt\n",
        "import PIL\n",
        "import torch\n",
        "import numpy as np\n",
        "from sklearn.metrics import classification_report\n",
        "\n",
        "from monai.apps import download_and_extract\n",
        "from monai.config import print_config\n",
        "from monai.data import decollate_batch\n",
        "from monai.metrics import ROCAUCMetric\n",
        "from monai.networks.nets import DenseNet121\n",
        "from monai.transforms import (\n",
        "    Activations,\n",
        "    AddChannel,\n",
        "    AsDiscrete,\n",
        "    Compose,\n",
        "    LoadImage,\n",
        "    RandFlip,\n",
        "    RandRotate,\n",
        "    RandZoom,\n",
        "    ScaleIntensity,\n",
        "    EnsureType,\n",
        ")\n",
        "from monai.utils import set_determinism\n",
        "\n",
        "print_config()"
      ],
      "execution_count": 3,
      "outputs": [
        {
          "output_type": "stream",
          "text": [
            "MONAI version: 0.7.dev2131\n",
            "Numpy version: 1.19.5\n",
            "Pytorch version: 1.9.0+cu102\n",
            "MONAI flags: HAS_EXT = False, USE_COMPILED = False\n",
            "MONAI rev id: 57467c75bff90e6c9da74461f7da3a828a39626b\n",
            "\n",
            "Optional dependencies:\n",
            "Pytorch Ignite version: NOT INSTALLED or UNKNOWN VERSION.\n",
            "Nibabel version: 3.0.2\n",
            "scikit-image version: 0.16.2\n",
            "Pillow version: 7.1.2\n",
            "Tensorboard version: 2.5.0\n",
            "gdown version: 3.6.4\n",
            "TorchVision version: 0.10.0+cu102\n",
            "tqdm version: 4.62.0\n",
            "lmdb version: 0.99\n",
            "psutil version: 5.4.8\n",
            "pandas version: 1.1.5\n",
            "einops version: NOT INSTALLED or UNKNOWN VERSION.\n",
            "\n",
            "For details about installing the optional dependencies, please visit:\n",
            "    https://docs.monai.io/en/latest/installation.html#installing-the-recommended-dependencies\n",
            "\n"
          ],
          "name": "stdout"
        }
      ]
    },
    {
      "cell_type": "markdown",
      "metadata": {
        "id": "hFFz6QlNLFL2"
      },
      "source": [
        "# Configurar directorio de datos\n",
        "Puede especificar un directorio con la variable de entorno MONAI_DATA_DIRECTORY.\n",
        "Esto le permite guardar resultados y reutilizar descargas.\n",
        "Si no se especifica, se utilizará un directorio temporal."
      ]
    },
    {
      "cell_type": "code",
      "metadata": {
        "colab": {
          "base_uri": "https://localhost:8080/"
        },
        "id": "xTRxXZJQLLJA",
        "outputId": "75170517-2456-4c26-8bd7-2cac22e01f06"
      },
      "source": [
        "directory = os.environ.get(\"MONAI_DATA_DIRECTORY\")\n",
        "root_dir = tempfile.mkdtemp() if directory is None else directory\n",
        "print(root_dir)"
      ],
      "execution_count": 4,
      "outputs": [
        {
          "output_type": "stream",
          "text": [
            "/tmp/tmpyvs2y9gz\n"
          ],
          "name": "stdout"
        }
      ]
    },
    {
      "cell_type": "markdown",
      "metadata": {
        "id": "0oD-aPmaLW0x"
      },
      "source": [
        "# Descargar conjunto de datos\n",
        "El conjunto de datos de MedNIST se obtuvo de varios conjuntos de TCIA, el RSNA Bone Age Challenge y el conjunto de datos de rayos X de tórax de los NIH.\n",
        "\n",
        "El conjunto de datos fue proporcionado amablemente por el Dr. Bradley J. Erickson M.D., Ph.D. (Departamento de Radiología, Clínica Mayo) bajo la licencia Creative Commons CC BY-SA 4.0.\n",
        "\n",
        "Si utiliza el conjunto de datos de MedNIST, reconozca la fuente."
      ]
    },
    {
      "cell_type": "code",
      "metadata": {
        "colab": {
          "base_uri": "https://localhost:8080/"
        },
        "id": "QRSHYlaoLdoq",
        "outputId": "469a404a-0aee-4f20-ff59-454bd2d8b4fa"
      },
      "source": [
        "resource = \"https://drive.google.com/uc?id=1QsnnkvZyJPcbRoV_ArW8SnE1OTuoVbKE\"\n",
        "md5 = \"0bc7306e7427e00ad1c5526a6677552d\"\n",
        "\n",
        "compressed_file = os.path.join(root_dir, \"MedNIST.tar.gz\")\n",
        "data_dir = os.path.join(root_dir, \"MedNIST\")\n",
        "if not os.path.exists(data_dir):\n",
        "    download_and_extract(resource, compressed_file, root_dir, md5)"
      ],
      "execution_count": 5,
      "outputs": [
        {
          "output_type": "stream",
          "text": [
            "Downloading...\n",
            "From: https://drive.google.com/uc?id=1QsnnkvZyJPcbRoV_ArW8SnE1OTuoVbKE\n",
            "To: /tmp/tmpodlffjis/MedNIST.tar.gz\n",
            "61.8MB [00:01, 36.4MB/s]\n"
          ],
          "name": "stderr"
        },
        {
          "output_type": "stream",
          "text": [
            "Downloaded: /tmp/tmpyvs2y9gz/MedNIST.tar.gz\n",
            "Verified 'MedNIST.tar.gz', md5: 0bc7306e7427e00ad1c5526a6677552d.\n",
            "Writing into directory: /tmp/tmpyvs2y9gz.\n"
          ],
          "name": "stdout"
        }
      ]
    },
    {
      "cell_type": "markdown",
      "metadata": {
        "id": "RMAiDO-MLqbO"
      },
      "source": [
        "## Aprendizaje deterministico para reproducibilidad"
      ]
    },
    {
      "cell_type": "code",
      "metadata": {
        "id": "TC9G0gQPLwwv"
      },
      "source": [
        "\n",
        "set_determinism(seed=0)"
      ],
      "execution_count": 6,
      "outputs": []
    },
    {
      "cell_type": "markdown",
      "metadata": {
        "id": "tUNhfNfhL4HJ"
      },
      "source": [
        "# Leer nombres de archivos de imágenes de las carpetas del conjunto de datos\n",
        "En primer lugar, verifique los archivos del conjunto de datos y muestre algunas estadísticas.\n",
        "Hay 6 carpetas en el conjunto de datos: Hand, AbdomenCT, CXR, ChestCT, BreastMRI, HeadCT,\n",
        "que deben usarse como etiquetas para entrenar nuestro modelo de clasificación."
      ]
    },
    {
      "cell_type": "code",
      "metadata": {
        "colab": {
          "base_uri": "https://localhost:8080/"
        },
        "id": "qRzcdltcMENV",
        "outputId": "07dc6cc3-3c2c-4111-bf40-abb0b4da7ffa"
      },
      "source": [
        "class_names = sorted(x for x in os.listdir(data_dir)\n",
        "                     if os.path.isdir(os.path.join(data_dir, x)))\n",
        "num_class = len(class_names)\n",
        "image_files = [\n",
        "    [\n",
        "        os.path.join(data_dir, class_names[i], x)\n",
        "        for x in os.listdir(os.path.join(data_dir, class_names[i]))\n",
        "    ]\n",
        "    for i in range(num_class)\n",
        "]\n",
        "num_each = [len(image_files[i]) for i in range(num_class)]\n",
        "image_files_list = []\n",
        "image_class = []\n",
        "for i in range(num_class):\n",
        "    image_files_list.extend(image_files[i])\n",
        "    image_class.extend([i] * num_each[i])\n",
        "num_total = len(image_class)\n",
        "image_width, image_height = PIL.Image.open(image_files_list[0]).size\n",
        "\n",
        "print(f\"Total image count: {num_total}\")\n",
        "print(f\"Image dimensions: {image_width} x {image_height}\")\n",
        "print(f\"Label names: {class_names}\")\n",
        "print(f\"Label counts: {num_each}\")"
      ],
      "execution_count": 7,
      "outputs": [
        {
          "output_type": "stream",
          "text": [
            "Total image count: 58954\n",
            "Image dimensions: 64 x 64\n",
            "Label names: ['AbdomenCT', 'BreastMRI', 'CXR', 'ChestCT', 'Hand', 'HeadCT']\n",
            "Label counts: [10000, 8954, 10000, 10000, 10000, 10000]\n"
          ],
          "name": "stdout"
        }
      ]
    },
    {
      "cell_type": "markdown",
      "metadata": {
        "id": "1O3DmcWFJ4A8"
      },
      "source": [
        ""
      ]
    },
    {
      "cell_type": "markdown",
      "metadata": {
        "id": "vF3ybB7aMqJO"
      },
      "source": [
        "# Selección de imágenes al azar del conjunto de datos para visualizarlas y verificarlas."
      ]
    },
    {
      "cell_type": "code",
      "metadata": {
        "colab": {
          "base_uri": "https://localhost:8080/",
          "height": 585
        },
        "id": "A7YI64ZpMtMz",
        "outputId": "e5baecba-f326-4d7a-abb7-1503f87f6dc0"
      },
      "source": [
        "plt.subplots(3, 3, figsize=(8, 8))\n",
        "for i, k in enumerate(np.random.randint(num_total, size=9)):\n",
        "    im = PIL.Image.open(image_files_list[k])\n",
        "    arr = np.array(im)\n",
        "    plt.subplot(3, 3, i + 1)\n",
        "    plt.xlabel(class_names[image_class[k]])\n",
        "    plt.imshow(arr, cmap=\"gray\", vmin=0, vmax=255)\n",
        "plt.tight_layout()\n",
        "plt.show()"
      ],
      "execution_count": 8,
      "outputs": [
        {
          "output_type": "display_data",
          "data": {
            "image/png": "[encoded data removed]",
            "text/plain": [
              "<Figure size 576x576 with 9 Axes>"
            ]
          },
          "metadata": {
            "tags": [],
            "needs_background": "light"
          }
        }
      ]
    },
    {
      "cell_type": "markdown",
      "metadata": {
        "id": "eiBRUxgUNBQO"
      },
      "source": [
        "\n",
        "# Preparación de conjuntos de training, validación y test\n",
        "Selección aleatoria del 10%  del dataset como validación y 10% como test."
      ]
    },
    {
      "cell_type": "code",
      "metadata": {
        "colab": {
          "base_uri": "https://localhost:8080/"
        },
        "id": "K0aHY-S4M4jH",
        "outputId": "197af34f-5bb5-4bd4-a435-ae6448b1dabd"
      },
      "source": [
        "\n",
        "val_frac = 0.1\n",
        "test_frac = 0.1\n",
        "length = len(image_files_list)\n",
        "indices = np.arange(length)\n",
        "np.random.shuffle(indices)\n",
        "\n",
        "test_split = int(test_frac * length)\n",
        "val_split = int(val_frac * length) + test_split\n",
        "test_indices = indices[:test_split]\n",
        "val_indices = indices[test_split:val_split]\n",
        "train_indices = indices[val_split:]\n",
        "\n",
        "train_x = [image_files_list[i] for i in train_indices]\n",
        "train_y = [image_class[i] for i in train_indices]\n",
        "val_x = [image_files_list[i] for i in val_indices]\n",
        "val_y = [image_class[i] for i in val_indices]\n",
        "test_x = [image_files_list[i] for i in test_indices]\n",
        "test_y = [image_class[i] for i in test_indices]\n",
        "\n",
        "print(\n",
        "    f\"Training count: {len(train_x)}, Validation count: \"\n",
        "    f\"{len(val_x)}, Test count: {len(test_x)}\")"
      ],
      "execution_count": 9,
      "outputs": [
        {
          "output_type": "stream",
          "text": [
            "Training count: 47164, Validation count: 5895, Test count: 5895\n"
          ],
          "name": "stdout"
        }
      ]
    },
    {
      "cell_type": "markdown",
      "metadata": {
        "id": "IP8bSdSfNino"
      },
      "source": [
        "# Definir transformaciones MONAI, conjunto de datos y cargador de datos para preprocesar datos"
      ]
    },
    {
      "cell_type": "code",
      "metadata": {
        "id": "nnbTkYX1NTUr"
      },
      "source": [
        "train_transforms = Compose(\n",
        "    [\n",
        "        LoadImage(image_only=True),\n",
        "        AddChannel(),\n",
        "        ScaleIntensity(),\n",
        "        RandRotate(range_x=np.pi / 12, prob=0.5, keep_size=True),\n",
        "        RandFlip(spatial_axis=0, prob=0.5),\n",
        "        RandZoom(min_zoom=0.9, max_zoom=1.1, prob=0.5),\n",
        "        EnsureType(),\n",
        "    ]\n",
        ")\n",
        "\n",
        "val_transforms = Compose(\n",
        "    [LoadImage(image_only=True), AddChannel(), ScaleIntensity(), EnsureType()])\n",
        "\n",
        "y_pred_trans = Compose([EnsureType(), Activations(softmax=True)])\n",
        "y_trans = Compose([EnsureType(), AsDiscrete(to_onehot=True, n_classes=num_class)])"
      ],
      "execution_count": 10,
      "outputs": []
    },
    {
      "cell_type": "code",
      "metadata": {
        "id": "PeFUQqeKNyWg"
      },
      "source": [
        "class MedNISTDataset(torch.utils.data.Dataset):\n",
        "    def __init__(self, image_files, labels, transforms):\n",
        "        self.image_files = image_files\n",
        "        self.labels = labels\n",
        "        self.transforms = transforms\n",
        "\n",
        "    def __len__(self):\n",
        "        return len(self.image_files)\n",
        "\n",
        "    def __getitem__(self, index):\n",
        "        return self.transforms(self.image_files[index]), self.labels[index]\n",
        "\n",
        "\n",
        "train_ds = MedNISTDataset(train_x, train_y, train_transforms)\n",
        "train_loader = torch.utils.data.DataLoader(\n",
        "    train_ds, batch_size=300, shuffle=True, num_workers=2)\n",
        "\n",
        "val_ds = MedNISTDataset(val_x, val_y, val_transforms)\n",
        "val_loader = torch.utils.data.DataLoader(\n",
        "    val_ds, batch_size=300, num_workers=2)\n",
        "\n",
        "test_ds = MedNISTDataset(test_x, test_y, val_transforms)\n",
        "test_loader = torch.utils.data.DataLoader(\n",
        "    test_ds, batch_size=300, num_workers=2)"
      ],
      "execution_count": 11,
      "outputs": []
    },
    {
      "cell_type": "markdown",
      "metadata": {
        "id": "A7mb3JMZOP-x"
      },
      "source": [
        "# Definir red y optimizador\n",
        "1. Establezca la tasa de aprendizaje de cuánto se actualiza el modelo por lote.\n",
        "2. Establezca el número de época total, ya que tenemos transformaciones aleatorias y aleatorias, por lo que los datos de entrenamiento de cada época son diferentes. Y como este es solo un tutorial para comenzar, entrenemos 4 épocas.\n",
        "4. Si entrena 10 épocas, el modelo puede alcanzar el 100% de precisión en el conjunto de datos de prueba.\n",
        "5. Use DenseNet de MONAI y muévase al dispositivo de GPU, este DenseNet puede admitir tareas de clasificación 2D y 3D.\n",
        "6. Utilice el optimizador de Adam.\n",
        "\n"
      ]
    },
    {
      "cell_type": "code",
      "metadata": {
        "id": "nNJgF4SxN58U"
      },
      "source": [
        "device = torch.device(\"cuda:0\")\n",
        "model = DenseNet121(spatial_dims=2, in_channels=1,\n",
        "                    out_channels=num_class).to(device)\n",
        "loss_function = torch.nn.CrossEntropyLoss()\n",
        "optimizer = torch.optim.Adam(model.parameters(), 1e-5)\n",
        "max_epochs = 4\n",
        "val_interval = 1\n",
        "auc_metric = ROCAUCMetric()"
      ],
      "execution_count": 12,
      "outputs": []
    },
    {
      "cell_type": "markdown",
      "metadata": {
        "id": "IAwGobADO4D9"
      },
      "source": [
        "\n",
        "# Entrenamiento de modelos\n",
        "Ejecute un entrenamiento típico de PyTorch que ejecute un ciclo de época y un ciclo de pasos, y realice la validación después de cada época.\n",
        "Guardará los pesos del modelo para archivar si obtiene la mejor precisión de validación."
      ]
    },
    {
      "cell_type": "code",
      "metadata": {
        "colab": {
          "base_uri": "https://localhost:8080/"
        },
        "id": "iBJq-6L0OkJ_",
        "outputId": "49828015-6fc8-4508-b5c8-027079206626"
      },
      "source": [
        "best_metric = -1\n",
        "best_metric_epoch = -1\n",
        "epoch_loss_values = []\n",
        "metric_values = []\n",
        "\n",
        "for epoch in range(max_epochs):\n",
        "    print(\"-\" * 10)\n",
        "    print(f\"epoch {epoch + 1}/{max_epochs}\")\n",
        "    model.train()\n",
        "    epoch_loss = 0\n",
        "    step = 0\n",
        "    for batch_data in train_loader:\n",
        "        step += 1\n",
        "        inputs, labels = batch_data[0].to(device), batch_data[1].to(device)\n",
        "        optimizer.zero_grad()\n",
        "        outputs = model(inputs)\n",
        "        loss = loss_function(outputs, labels)\n",
        "        loss.backward()\n",
        "        optimizer.step()\n",
        "        epoch_loss += loss.item()\n",
        "        print(\n",
        "            f\"{step}/{len(train_ds) // train_loader.batch_size}, \"\n",
        "            f\"train_loss: {loss.item():.4f}\")\n",
        "        epoch_len = len(train_ds) // train_loader.batch_size\n",
        "    epoch_loss /= step\n",
        "    epoch_loss_values.append(epoch_loss)\n",
        "    print(f\"epoch {epoch + 1} average loss: {epoch_loss:.4f}\")\n",
        "\n",
        "    if (epoch + 1) % val_interval == 0:\n",
        "        model.eval()\n",
        "        with torch.no_grad():\n",
        "            y_pred = torch.tensor([], dtype=torch.float32, device=device)\n",
        "            y = torch.tensor([], dtype=torch.long, device=device)\n",
        "            for val_data in val_loader:\n",
        "                val_images, val_labels = (\n",
        "                    val_data[0].to(device),\n",
        "                    val_data[1].to(device),\n",
        "                )\n",
        "                y_pred = torch.cat([y_pred, model(val_images)], dim=0)\n",
        "                y = torch.cat([y, val_labels], dim=0)\n",
        "            y_onehot = [y_trans(i) for i in decollate_batch(y)]\n",
        "            y_pred_act = [y_pred_trans(i) for i in decollate_batch(y_pred)]\n",
        "            auc_metric(y_pred_act, y_onehot)\n",
        "            result = auc_metric.aggregate()\n",
        "            auc_metric.reset()\n",
        "            del y_pred_act, y_onehot\n",
        "            metric_values.append(result)\n",
        "            acc_value = torch.eq(y_pred.argmax(dim=1), y)\n",
        "            acc_metric = acc_value.sum().item() / len(acc_value)\n",
        "            if result > best_metric:\n",
        "                best_metric = result\n",
        "                best_metric_epoch = epoch + 1\n",
        "                torch.save(model.state_dict(), os.path.join(\n",
        "                    root_dir, \"best_metric_model.pth\"))\n",
        "                print(\"saved new best metric model\")\n",
        "            print(\n",
        "                f\"current epoch: {epoch + 1} current AUC: {result:.4f}\"\n",
        "                f\" current accuracy: {acc_metric:.4f}\"\n",
        "                f\" best AUC: {best_metric:.4f}\"\n",
        "                f\" at epoch: {best_metric_epoch}\"\n",
        "            )\n",
        "\n",
        "print(\n",
        "    f\"train completed, best_metric: {best_metric:.4f} \"\n",
        "    f\"at epoch: {best_metric_epoch}\")\n"
      ],
      "execution_count": 13,
      "outputs": [
        {
          "output_type": "stream",
          "text": [
            "----------\n",
            "epoch 1/4\n"
          ],
          "name": "stdout"
        },
        {
          "output_type": "stream",
          "text": [
            "/usr/local/lib/python3.7/dist-packages/torch/nn/functional.py:718: UserWarning: Named tensors and all their associated APIs are an experimental feature and subject to change. Please do not use them for anything important until they are released as stable. (Triggered internally at  /pytorch/c10/core/TensorImpl.h:1156.)\n",
            "  return torch.max_pool2d(input, kernel_size, stride, padding, dilation, ceil_mode)\n"
          ],
          "name": "stderr"
        },
        {
          "output_type": "stream",
          "text": [
            "1/157, train_loss: 1.7946\n",
            "2/157, train_loss: 1.7593\n",
            "3/157, train_loss: 1.7422\n",
            "4/157, train_loss: 1.7168\n",
            "5/157, train_loss: 1.6832\n",
            "6/157, train_loss: 1.6584\n",
            "7/157, train_loss: 1.6362\n",
            "8/157, train_loss: 1.5864\n",
            "9/157, train_loss: 1.5794\n",
            "10/157, train_loss: 1.5627\n",
            "11/157, train_loss: 1.5248\n",
            "12/157, train_loss: 1.5062\n",
            "13/157, train_loss: 1.4991\n",
            "14/157, train_loss: 1.4715\n",
            "15/157, train_loss: 1.4570\n",
            "16/157, train_loss: 1.4430\n",
            "17/157, train_loss: 1.3911\n",
            "18/157, train_loss: 1.3836\n",
            "19/157, train_loss: 1.3519\n",
            "20/157, train_loss: 1.3515\n",
            "21/157, train_loss: 1.3014\n",
            "22/157, train_loss: 1.2930\n",
            "23/157, train_loss: 1.2732\n",
            "24/157, train_loss: 1.2788\n",
            "25/157, train_loss: 1.2688\n",
            "26/157, train_loss: 1.2577\n",
            "27/157, train_loss: 1.2584\n",
            "28/157, train_loss: 1.2074\n",
            "29/157, train_loss: 1.1681\n",
            "30/157, train_loss: 1.1545\n",
            "31/157, train_loss: 1.1333\n",
            "32/157, train_loss: 1.1328\n",
            "33/157, train_loss: 1.1153\n",
            "34/157, train_loss: 1.1043\n",
            "35/157, train_loss: 1.1085\n",
            "36/157, train_loss: 1.0587\n",
            "37/157, train_loss: 1.0306\n",
            "38/157, train_loss: 1.0355\n",
            "39/157, train_loss: 1.0204\n",
            "40/157, train_loss: 1.0279\n",
            "41/157, train_loss: 1.0119\n",
            "42/157, train_loss: 0.9659\n",
            "43/157, train_loss: 0.9772\n",
            "44/157, train_loss: 0.9800\n",
            "45/157, train_loss: 0.9341\n",
            "46/157, train_loss: 0.8969\n",
            "47/157, train_loss: 0.9637\n",
            "48/157, train_loss: 0.9040\n",
            "49/157, train_loss: 0.8949\n",
            "50/157, train_loss: 0.9289\n",
            "51/157, train_loss: 0.8784\n",
            "52/157, train_loss: 0.8838\n",
            "53/157, train_loss: 0.8153\n",
            "54/157, train_loss: 0.8249\n",
            "55/157, train_loss: 0.8193\n",
            "56/157, train_loss: 0.8098\n",
            "57/157, train_loss: 0.8393\n",
            "58/157, train_loss: 0.8070\n",
            "59/157, train_loss: 0.7771\n",
            "60/157, train_loss: 0.8086\n",
            "61/157, train_loss: 0.7428\n",
            "62/157, train_loss: 0.7493\n",
            "63/157, train_loss: 0.7599\n",
            "64/157, train_loss: 0.7219\n",
            "65/157, train_loss: 0.7428\n",
            "66/157, train_loss: 0.7716\n",
            "67/157, train_loss: 0.7138\n",
            "68/157, train_loss: 0.6977\n",
            "69/157, train_loss: 0.7144\n",
            "70/157, train_loss: 0.7102\n",
            "71/157, train_loss: 0.6567\n",
            "72/157, train_loss: 0.6503\n",
            "73/157, train_loss: 0.6631\n",
            "74/157, train_loss: 0.6510\n",
            "75/157, train_loss: 0.6040\n",
            "76/157, train_loss: 0.6403\n",
            "77/157, train_loss: 0.6036\n",
            "78/157, train_loss: 0.5983\n",
            "79/157, train_loss: 0.6206\n",
            "80/157, train_loss: 0.6052\n",
            "81/157, train_loss: 0.5313\n",
            "82/157, train_loss: 0.5995\n",
            "83/157, train_loss: 0.5845\n",
            "84/157, train_loss: 0.5216\n",
            "85/157, train_loss: 0.6052\n",
            "86/157, train_loss: 0.5715\n",
            "87/157, train_loss: 0.4908\n",
            "88/157, train_loss: 0.5355\n",
            "89/157, train_loss: 0.5202\n",
            "90/157, train_loss: 0.4739\n",
            "91/157, train_loss: 0.4679\n",
            "92/157, train_loss: 0.5047\n",
            "93/157, train_loss: 0.4901\n",
            "94/157, train_loss: 0.4602\n",
            "95/157, train_loss: 0.4962\n",
            "96/157, train_loss: 0.5037\n",
            "97/157, train_loss: 0.4367\n",
            "98/157, train_loss: 0.4530\n",
            "99/157, train_loss: 0.4802\n",
            "100/157, train_loss: 0.4982\n",
            "101/157, train_loss: 0.4475\n",
            "102/157, train_loss: 0.4445\n",
            "103/157, train_loss: 0.4316\n",
            "104/157, train_loss: 0.4225\n",
            "105/157, train_loss: 0.4634\n",
            "106/157, train_loss: 0.4398\n",
            "107/157, train_loss: 0.4211\n",
            "108/157, train_loss: 0.4449\n",
            "109/157, train_loss: 0.4053\n",
            "110/157, train_loss: 0.4175\n",
            "111/157, train_loss: 0.3798\n",
            "112/157, train_loss: 0.3647\n",
            "113/157, train_loss: 0.3892\n",
            "114/157, train_loss: 0.3737\n",
            "115/157, train_loss: 0.3693\n",
            "116/157, train_loss: 0.3494\n",
            "117/157, train_loss: 0.3931\n",
            "118/157, train_loss: 0.3467\n",
            "119/157, train_loss: 0.3356\n",
            "120/157, train_loss: 0.3678\n",
            "121/157, train_loss: 0.4015\n",
            "122/157, train_loss: 0.3625\n",
            "123/157, train_loss: 0.3574\n",
            "124/157, train_loss: 0.3716\n",
            "125/157, train_loss: 0.3527\n",
            "126/157, train_loss: 0.3430\n",
            "127/157, train_loss: 0.3232\n",
            "128/157, train_loss: 0.3267\n",
            "129/157, train_loss: 0.3163\n",
            "130/157, train_loss: 0.2903\n",
            "131/157, train_loss: 0.2992\n",
            "132/157, train_loss: 0.3165\n",
            "133/157, train_loss: 0.2983\n",
            "134/157, train_loss: 0.2927\n",
            "135/157, train_loss: 0.3166\n",
            "136/157, train_loss: 0.2808\n",
            "137/157, train_loss: 0.3081\n",
            "138/157, train_loss: 0.2871\n",
            "139/157, train_loss: 0.3363\n",
            "140/157, train_loss: 0.2842\n",
            "141/157, train_loss: 0.2984\n",
            "142/157, train_loss: 0.2731\n",
            "143/157, train_loss: 0.2771\n",
            "144/157, train_loss: 0.2904\n",
            "145/157, train_loss: 0.2846\n",
            "146/157, train_loss: 0.3029\n",
            "147/157, train_loss: 0.2510\n",
            "148/157, train_loss: 0.2666\n",
            "149/157, train_loss: 0.2775\n",
            "150/157, train_loss: 0.2776\n",
            "151/157, train_loss: 0.2601\n",
            "152/157, train_loss: 0.2935\n",
            "153/157, train_loss: 0.2681\n",
            "154/157, train_loss: 0.2609\n",
            "155/157, train_loss: 0.2177\n",
            "156/157, train_loss: 0.2282\n",
            "157/157, train_loss: 0.2253\n",
            "158/157, train_loss: 0.2207\n",
            "epoch 1 average loss: 0.7287\n",
            "saved new best metric model\n",
            "current epoch: 1 current AUC: 0.9975 current accuracy: 0.9612 best AUC: 0.9975 at epoch: 1\n",
            "----------\n",
            "epoch 2/4\n",
            "1/157, train_loss: 0.2787\n",
            "2/157, train_loss: 0.2152\n",
            "3/157, train_loss: 0.2962\n",
            "4/157, train_loss: 0.2236\n",
            "5/157, train_loss: 0.2321\n",
            "6/157, train_loss: 0.2110\n",
            "7/157, train_loss: 0.2105\n",
            "8/157, train_loss: 0.2051\n",
            "9/157, train_loss: 0.2371\n",
            "10/157, train_loss: 0.2046\n",
            "11/157, train_loss: 0.2364\n",
            "12/157, train_loss: 0.2447\n",
            "13/157, train_loss: 0.2219\n",
            "14/157, train_loss: 0.2133\n",
            "15/157, train_loss: 0.2048\n",
            "16/157, train_loss: 0.2128\n",
            "17/157, train_loss: 0.2299\n",
            "18/157, train_loss: 0.2294\n",
            "19/157, train_loss: 0.2375\n",
            "20/157, train_loss: 0.2223\n",
            "21/157, train_loss: 0.2084\n",
            "22/157, train_loss: 0.2130\n",
            "23/157, train_loss: 0.1785\n",
            "24/157, train_loss: 0.1983\n",
            "25/157, train_loss: 0.1930\n",
            "26/157, train_loss: 0.2005\n",
            "27/157, train_loss: 0.2056\n",
            "28/157, train_loss: 0.1957\n",
            "29/157, train_loss: 0.1933\n",
            "30/157, train_loss: 0.1503\n",
            "31/157, train_loss: 0.1678\n",
            "32/157, train_loss: 0.1859\n",
            "33/157, train_loss: 0.1924\n",
            "34/157, train_loss: 0.2110\n",
            "35/157, train_loss: 0.1554\n",
            "36/157, train_loss: 0.2111\n",
            "37/157, train_loss: 0.1632\n",
            "38/157, train_loss: 0.1751\n",
            "39/157, train_loss: 0.1759\n",
            "40/157, train_loss: 0.1828\n",
            "41/157, train_loss: 0.1756\n",
            "42/157, train_loss: 0.1543\n",
            "43/157, train_loss: 0.1738\n",
            "44/157, train_loss: 0.1853\n",
            "45/157, train_loss: 0.1855\n",
            "46/157, train_loss: 0.1805\n",
            "47/157, train_loss: 0.1476\n",
            "48/157, train_loss: 0.1541\n",
            "49/157, train_loss: 0.1407\n",
            "50/157, train_loss: 0.1670\n",
            "51/157, train_loss: 0.1590\n",
            "52/157, train_loss: 0.1537\n",
            "53/157, train_loss: 0.1752\n",
            "54/157, train_loss: 0.2033\n",
            "55/157, train_loss: 0.1648\n",
            "56/157, train_loss: 0.1781\n",
            "57/157, train_loss: 0.1549\n",
            "58/157, train_loss: 0.1528\n",
            "59/157, train_loss: 0.1644\n",
            "60/157, train_loss: 0.1558\n",
            "61/157, train_loss: 0.1396\n",
            "62/157, train_loss: 0.1488\n",
            "63/157, train_loss: 0.1419\n",
            "64/157, train_loss: 0.1418\n",
            "65/157, train_loss: 0.1559\n",
            "66/157, train_loss: 0.1279\n",
            "67/157, train_loss: 0.1268\n",
            "68/157, train_loss: 0.1284\n",
            "69/157, train_loss: 0.1430\n",
            "70/157, train_loss: 0.1549\n",
            "71/157, train_loss: 0.1213\n",
            "72/157, train_loss: 0.1245\n",
            "73/157, train_loss: 0.1234\n",
            "74/157, train_loss: 0.1261\n",
            "75/157, train_loss: 0.1261\n",
            "76/157, train_loss: 0.1338\n",
            "77/157, train_loss: 0.1487\n",
            "78/157, train_loss: 0.1441\n",
            "79/157, train_loss: 0.1396\n",
            "80/157, train_loss: 0.1307\n",
            "81/157, train_loss: 0.1587\n",
            "82/157, train_loss: 0.1128\n",
            "83/157, train_loss: 0.1259\n",
            "84/157, train_loss: 0.1412\n",
            "85/157, train_loss: 0.1199\n",
            "86/157, train_loss: 0.1593\n",
            "87/157, train_loss: 0.1278\n",
            "88/157, train_loss: 0.1263\n",
            "89/157, train_loss: 0.1144\n",
            "90/157, train_loss: 0.1024\n",
            "91/157, train_loss: 0.1001\n",
            "92/157, train_loss: 0.1594\n",
            "93/157, train_loss: 0.1211\n",
            "94/157, train_loss: 0.1148\n",
            "95/157, train_loss: 0.1359\n",
            "96/157, train_loss: 0.1256\n",
            "97/157, train_loss: 0.1073\n",
            "98/157, train_loss: 0.1254\n",
            "99/157, train_loss: 0.1287\n",
            "100/157, train_loss: 0.1156\n",
            "101/157, train_loss: 0.1004\n",
            "102/157, train_loss: 0.1251\n",
            "103/157, train_loss: 0.0975\n",
            "104/157, train_loss: 0.1105\n",
            "105/157, train_loss: 0.0995\n",
            "106/157, train_loss: 0.1413\n",
            "107/157, train_loss: 0.1099\n",
            "108/157, train_loss: 0.1185\n",
            "109/157, train_loss: 0.1040\n",
            "110/157, train_loss: 0.1252\n",
            "111/157, train_loss: 0.1070\n",
            "112/157, train_loss: 0.1199\n",
            "113/157, train_loss: 0.1251\n",
            "114/157, train_loss: 0.1001\n",
            "115/157, train_loss: 0.0874\n",
            "116/157, train_loss: 0.1041\n",
            "117/157, train_loss: 0.1244\n",
            "118/157, train_loss: 0.1062\n",
            "119/157, train_loss: 0.1027\n",
            "120/157, train_loss: 0.1261\n",
            "121/157, train_loss: 0.1074\n",
            "122/157, train_loss: 0.1217\n",
            "123/157, train_loss: 0.1328\n",
            "124/157, train_loss: 0.0980\n",
            "125/157, train_loss: 0.1004\n",
            "126/157, train_loss: 0.0920\n",
            "127/157, train_loss: 0.1093\n",
            "128/157, train_loss: 0.0888\n",
            "129/157, train_loss: 0.1064\n",
            "130/157, train_loss: 0.1027\n",
            "131/157, train_loss: 0.0854\n",
            "132/157, train_loss: 0.1011\n",
            "133/157, train_loss: 0.0942\n",
            "134/157, train_loss: 0.1102\n",
            "135/157, train_loss: 0.0785\n",
            "136/157, train_loss: 0.1137\n",
            "137/157, train_loss: 0.0959\n",
            "138/157, train_loss: 0.1015\n",
            "139/157, train_loss: 0.0918\n",
            "140/157, train_loss: 0.0815\n",
            "141/157, train_loss: 0.0950\n",
            "142/157, train_loss: 0.0776\n",
            "143/157, train_loss: 0.0868\n",
            "144/157, train_loss: 0.0989\n",
            "145/157, train_loss: 0.0971\n",
            "146/157, train_loss: 0.0893\n",
            "147/157, train_loss: 0.0831\n",
            "148/157, train_loss: 0.0765\n",
            "149/157, train_loss: 0.0861\n",
            "150/157, train_loss: 0.0816\n",
            "151/157, train_loss: 0.0914\n",
            "152/157, train_loss: 0.1265\n",
            "153/157, train_loss: 0.1036\n",
            "154/157, train_loss: 0.0759\n",
            "155/157, train_loss: 0.0799\n",
            "156/157, train_loss: 0.0879\n",
            "157/157, train_loss: 0.0976\n",
            "158/157, train_loss: 0.1319\n",
            "epoch 2 average loss: 0.1444\n",
            "saved new best metric model\n",
            "current epoch: 2 current AUC: 0.9998 current accuracy: 0.9847 best AUC: 0.9998 at epoch: 2\n",
            "----------\n",
            "epoch 3/4\n",
            "1/157, train_loss: 0.0902\n",
            "2/157, train_loss: 0.0781\n",
            "3/157, train_loss: 0.0766\n",
            "4/157, train_loss: 0.0840\n",
            "5/157, train_loss: 0.0963\n",
            "6/157, train_loss: 0.0828\n",
            "7/157, train_loss: 0.0984\n",
            "8/157, train_loss: 0.0901\n",
            "9/157, train_loss: 0.0952\n",
            "10/157, train_loss: 0.0903\n",
            "11/157, train_loss: 0.0789\n",
            "12/157, train_loss: 0.1019\n",
            "13/157, train_loss: 0.0805\n",
            "14/157, train_loss: 0.0834\n",
            "15/157, train_loss: 0.0883\n",
            "16/157, train_loss: 0.0987\n",
            "17/157, train_loss: 0.0778\n",
            "18/157, train_loss: 0.0826\n",
            "19/157, train_loss: 0.0871\n",
            "20/157, train_loss: 0.0791\n",
            "21/157, train_loss: 0.0706\n",
            "22/157, train_loss: 0.0880\n",
            "23/157, train_loss: 0.0975\n",
            "24/157, train_loss: 0.0769\n",
            "25/157, train_loss: 0.1203\n",
            "26/157, train_loss: 0.0633\n",
            "27/157, train_loss: 0.0850\n",
            "28/157, train_loss: 0.0749\n",
            "29/157, train_loss: 0.0779\n",
            "30/157, train_loss: 0.0790\n",
            "31/157, train_loss: 0.0881\n",
            "32/157, train_loss: 0.0859\n",
            "33/157, train_loss: 0.0867\n",
            "34/157, train_loss: 0.0858\n",
            "35/157, train_loss: 0.0625\n",
            "36/157, train_loss: 0.0748\n",
            "37/157, train_loss: 0.0796\n",
            "38/157, train_loss: 0.0732\n",
            "39/157, train_loss: 0.0593\n",
            "40/157, train_loss: 0.0755\n",
            "41/157, train_loss: 0.0647\n",
            "42/157, train_loss: 0.0939\n",
            "43/157, train_loss: 0.0797\n",
            "44/157, train_loss: 0.0663\n",
            "45/157, train_loss: 0.0791\n",
            "46/157, train_loss: 0.0564\n",
            "47/157, train_loss: 0.0616\n",
            "48/157, train_loss: 0.0907\n",
            "49/157, train_loss: 0.0773\n",
            "50/157, train_loss: 0.0839\n",
            "51/157, train_loss: 0.0687\n",
            "52/157, train_loss: 0.0643\n",
            "53/157, train_loss: 0.0781\n",
            "54/157, train_loss: 0.0622\n",
            "55/157, train_loss: 0.0544\n",
            "56/157, train_loss: 0.0781\n",
            "57/157, train_loss: 0.0595\n",
            "58/157, train_loss: 0.0655\n",
            "59/157, train_loss: 0.0810\n",
            "60/157, train_loss: 0.0819\n",
            "61/157, train_loss: 0.0658\n",
            "62/157, train_loss: 0.0646\n",
            "63/157, train_loss: 0.0519\n",
            "64/157, train_loss: 0.0503\n",
            "65/157, train_loss: 0.0691\n",
            "66/157, train_loss: 0.0751\n",
            "67/157, train_loss: 0.0627\n",
            "68/157, train_loss: 0.0570\n",
            "69/157, train_loss: 0.0577\n",
            "70/157, train_loss: 0.0771\n",
            "71/157, train_loss: 0.0805\n",
            "72/157, train_loss: 0.0608\n",
            "73/157, train_loss: 0.0442\n",
            "74/157, train_loss: 0.0571\n",
            "75/157, train_loss: 0.0483\n",
            "76/157, train_loss: 0.0504\n",
            "77/157, train_loss: 0.0655\n",
            "78/157, train_loss: 0.0783\n",
            "79/157, train_loss: 0.0575\n",
            "80/157, train_loss: 0.0651\n",
            "81/157, train_loss: 0.0610\n",
            "82/157, train_loss: 0.0543\n",
            "83/157, train_loss: 0.0610\n",
            "84/157, train_loss: 0.0811\n",
            "85/157, train_loss: 0.1008\n",
            "86/157, train_loss: 0.0543\n",
            "87/157, train_loss: 0.0625\n",
            "88/157, train_loss: 0.0699\n",
            "89/157, train_loss: 0.0627\n",
            "90/157, train_loss: 0.0512\n",
            "91/157, train_loss: 0.0692\n",
            "92/157, train_loss: 0.0558\n",
            "93/157, train_loss: 0.0519\n",
            "94/157, train_loss: 0.0512\n",
            "95/157, train_loss: 0.0492\n",
            "96/157, train_loss: 0.0738\n",
            "97/157, train_loss: 0.0610\n",
            "98/157, train_loss: 0.0534\n",
            "99/157, train_loss: 0.0602\n",
            "100/157, train_loss: 0.0546\n",
            "101/157, train_loss: 0.0566\n",
            "102/157, train_loss: 0.0606\n",
            "103/157, train_loss: 0.0539\n",
            "104/157, train_loss: 0.0638\n",
            "105/157, train_loss: 0.0480\n",
            "106/157, train_loss: 0.0450\n",
            "107/157, train_loss: 0.0474\n",
            "108/157, train_loss: 0.0528\n",
            "109/157, train_loss: 0.1042\n",
            "110/157, train_loss: 0.0573\n",
            "111/157, train_loss: 0.0476\n",
            "112/157, train_loss: 0.0584\n",
            "113/157, train_loss: 0.0436\n",
            "114/157, train_loss: 0.0689\n",
            "115/157, train_loss: 0.0599\n",
            "116/157, train_loss: 0.0492\n",
            "117/157, train_loss: 0.0653\n",
            "118/157, train_loss: 0.0524\n",
            "119/157, train_loss: 0.0630\n",
            "120/157, train_loss: 0.0885\n",
            "121/157, train_loss: 0.0634\n",
            "122/157, train_loss: 0.0331\n",
            "123/157, train_loss: 0.0303\n",
            "124/157, train_loss: 0.0442\n",
            "125/157, train_loss: 0.0557\n",
            "126/157, train_loss: 0.0375\n",
            "127/157, train_loss: 0.0551\n",
            "128/157, train_loss: 0.0444\n",
            "129/157, train_loss: 0.0445\n",
            "130/157, train_loss: 0.0706\n",
            "131/157, train_loss: 0.0604\n",
            "132/157, train_loss: 0.0546\n",
            "133/157, train_loss: 0.0449\n",
            "134/157, train_loss: 0.0534\n",
            "135/157, train_loss: 0.0462\n",
            "136/157, train_loss: 0.0420\n",
            "137/157, train_loss: 0.0564\n",
            "138/157, train_loss: 0.0351\n",
            "139/157, train_loss: 0.0420\n",
            "140/157, train_loss: 0.0504\n",
            "141/157, train_loss: 0.0351\n",
            "142/157, train_loss: 0.0670\n",
            "143/157, train_loss: 0.0352\n",
            "144/157, train_loss: 0.0492\n",
            "145/157, train_loss: 0.0888\n",
            "146/157, train_loss: 0.0368\n",
            "147/157, train_loss: 0.0413\n",
            "148/157, train_loss: 0.0487\n",
            "149/157, train_loss: 0.0578\n",
            "150/157, train_loss: 0.0505\n",
            "151/157, train_loss: 0.0553\n",
            "152/157, train_loss: 0.0627\n",
            "153/157, train_loss: 0.0432\n",
            "154/157, train_loss: 0.0403\n",
            "155/157, train_loss: 0.0468\n",
            "156/157, train_loss: 0.0412\n",
            "157/157, train_loss: 0.0559\n",
            "158/157, train_loss: 0.0598\n",
            "epoch 3 average loss: 0.0654\n",
            "saved new best metric model\n",
            "current epoch: 3 current AUC: 0.9999 current accuracy: 0.9917 best AUC: 0.9999 at epoch: 3\n",
            "----------\n",
            "epoch 4/4\n",
            "1/157, train_loss: 0.0410\n",
            "2/157, train_loss: 0.0416\n",
            "3/157, train_loss: 0.0490\n",
            "4/157, train_loss: 0.0507\n",
            "5/157, train_loss: 0.0395\n",
            "6/157, train_loss: 0.0494\n",
            "7/157, train_loss: 0.0467\n",
            "8/157, train_loss: 0.0412\n",
            "9/157, train_loss: 0.0423\n",
            "10/157, train_loss: 0.0437\n",
            "11/157, train_loss: 0.0409\n",
            "12/157, train_loss: 0.0308\n",
            "13/157, train_loss: 0.0408\n",
            "14/157, train_loss: 0.0578\n",
            "15/157, train_loss: 0.0374\n",
            "16/157, train_loss: 0.0513\n",
            "17/157, train_loss: 0.0367\n",
            "18/157, train_loss: 0.0282\n",
            "19/157, train_loss: 0.0467\n",
            "20/157, train_loss: 0.0541\n",
            "21/157, train_loss: 0.0623\n",
            "22/157, train_loss: 0.0405\n",
            "23/157, train_loss: 0.0462\n",
            "24/157, train_loss: 0.0542\n",
            "25/157, train_loss: 0.0548\n",
            "26/157, train_loss: 0.0417\n",
            "27/157, train_loss: 0.0379\n",
            "28/157, train_loss: 0.0420\n",
            "29/157, train_loss: 0.0322\n",
            "30/157, train_loss: 0.0531\n",
            "31/157, train_loss: 0.0471\n",
            "32/157, train_loss: 0.0363\n",
            "33/157, train_loss: 0.0430\n",
            "34/157, train_loss: 0.0363\n",
            "35/157, train_loss: 0.0487\n",
            "36/157, train_loss: 0.0581\n",
            "37/157, train_loss: 0.0434\n",
            "38/157, train_loss: 0.0599\n",
            "39/157, train_loss: 0.0333\n",
            "40/157, train_loss: 0.0435\n",
            "41/157, train_loss: 0.0421\n",
            "42/157, train_loss: 0.0441\n",
            "43/157, train_loss: 0.0542\n",
            "44/157, train_loss: 0.0341\n",
            "45/157, train_loss: 0.0383\n",
            "46/157, train_loss: 0.0368\n",
            "47/157, train_loss: 0.0592\n",
            "48/157, train_loss: 0.0666\n",
            "49/157, train_loss: 0.0552\n",
            "50/157, train_loss: 0.0527\n",
            "51/157, train_loss: 0.0365\n",
            "52/157, train_loss: 0.0407\n",
            "53/157, train_loss: 0.0576\n",
            "54/157, train_loss: 0.0605\n",
            "55/157, train_loss: 0.0315\n",
            "56/157, train_loss: 0.0457\n",
            "57/157, train_loss: 0.0224\n",
            "58/157, train_loss: 0.0590\n",
            "59/157, train_loss: 0.0345\n",
            "60/157, train_loss: 0.0396\n",
            "61/157, train_loss: 0.0421\n",
            "62/157, train_loss: 0.0415\n",
            "63/157, train_loss: 0.0415\n",
            "64/157, train_loss: 0.0342\n",
            "65/157, train_loss: 0.0294\n",
            "66/157, train_loss: 0.0420\n",
            "67/157, train_loss: 0.0210\n",
            "68/157, train_loss: 0.0334\n",
            "69/157, train_loss: 0.0608\n",
            "70/157, train_loss: 0.0408\n",
            "71/157, train_loss: 0.0412\n",
            "72/157, train_loss: 0.0306\n",
            "73/157, train_loss: 0.0405\n",
            "74/157, train_loss: 0.0394\n",
            "75/157, train_loss: 0.0320\n",
            "76/157, train_loss: 0.0629\n",
            "77/157, train_loss: 0.0269\n",
            "78/157, train_loss: 0.0286\n",
            "79/157, train_loss: 0.0505\n",
            "80/157, train_loss: 0.0386\n",
            "81/157, train_loss: 0.0506\n",
            "82/157, train_loss: 0.0415\n",
            "83/157, train_loss: 0.0188\n",
            "84/157, train_loss: 0.0487\n",
            "85/157, train_loss: 0.0457\n",
            "86/157, train_loss: 0.0349\n",
            "87/157, train_loss: 0.0223\n",
            "88/157, train_loss: 0.0322\n",
            "89/157, train_loss: 0.0476\n",
            "90/157, train_loss: 0.0408\n",
            "91/157, train_loss: 0.0273\n",
            "92/157, train_loss: 0.0394\n",
            "93/157, train_loss: 0.0351\n",
            "94/157, train_loss: 0.0355\n",
            "95/157, train_loss: 0.0334\n",
            "96/157, train_loss: 0.0387\n",
            "97/157, train_loss: 0.0230\n",
            "98/157, train_loss: 0.0379\n",
            "99/157, train_loss: 0.0261\n",
            "100/157, train_loss: 0.0325\n",
            "101/157, train_loss: 0.0209\n",
            "102/157, train_loss: 0.0294\n",
            "103/157, train_loss: 0.0336\n",
            "104/157, train_loss: 0.0279\n",
            "105/157, train_loss: 0.0242\n",
            "106/157, train_loss: 0.0463\n",
            "107/157, train_loss: 0.0271\n",
            "108/157, train_loss: 0.0360\n",
            "109/157, train_loss: 0.0435\n",
            "110/157, train_loss: 0.0385\n",
            "111/157, train_loss: 0.0305\n",
            "112/157, train_loss: 0.0422\n",
            "113/157, train_loss: 0.0291\n",
            "114/157, train_loss: 0.0297\n",
            "115/157, train_loss: 0.0243\n",
            "116/157, train_loss: 0.0290\n",
            "117/157, train_loss: 0.0334\n",
            "118/157, train_loss: 0.0436\n",
            "119/157, train_loss: 0.0480\n",
            "120/157, train_loss: 0.0331\n",
            "121/157, train_loss: 0.0240\n",
            "122/157, train_loss: 0.0496\n",
            "123/157, train_loss: 0.0319\n",
            "124/157, train_loss: 0.0329\n",
            "125/157, train_loss: 0.0289\n",
            "126/157, train_loss: 0.0238\n",
            "127/157, train_loss: 0.0366\n",
            "128/157, train_loss: 0.0320\n",
            "129/157, train_loss: 0.0254\n",
            "130/157, train_loss: 0.0490\n",
            "131/157, train_loss: 0.0282\n",
            "132/157, train_loss: 0.0402\n",
            "133/157, train_loss: 0.0281\n",
            "134/157, train_loss: 0.0575\n",
            "135/157, train_loss: 0.0193\n",
            "136/157, train_loss: 0.0495\n",
            "137/157, train_loss: 0.0344\n",
            "138/157, train_loss: 0.0300\n",
            "139/157, train_loss: 0.0318\n",
            "140/157, train_loss: 0.0390\n",
            "141/157, train_loss: 0.0324\n",
            "142/157, train_loss: 0.0206\n",
            "143/157, train_loss: 0.0265\n",
            "144/157, train_loss: 0.0274\n",
            "145/157, train_loss: 0.0289\n",
            "146/157, train_loss: 0.0349\n",
            "147/157, train_loss: 0.0349\n",
            "148/157, train_loss: 0.0241\n",
            "149/157, train_loss: 0.0320\n",
            "150/157, train_loss: 0.0273\n",
            "151/157, train_loss: 0.0425\n",
            "152/157, train_loss: 0.0317\n",
            "153/157, train_loss: 0.0400\n",
            "154/157, train_loss: 0.0429\n",
            "155/157, train_loss: 0.0384\n",
            "156/157, train_loss: 0.0377\n",
            "157/157, train_loss: 0.0295\n",
            "158/157, train_loss: 0.0498\n",
            "epoch 4 average loss: 0.0389\n",
            "saved new best metric model\n",
            "current epoch: 4 current AUC: 1.0000 current accuracy: 0.9953 best AUC: 1.0000 at epoch: 4\n",
            "train completed, best_metric: 1.0000 at epoch: 4\n"
          ],
          "name": "stdout"
        }
      ]
    },
    {
      "cell_type": "markdown",
      "metadata": {
        "id": "vOCFKHXFPTOV"
      },
      "source": [
        "# Gráfico de loss y métrica"
      ]
    },
    {
      "cell_type": "code",
      "metadata": {
        "colab": {
          "base_uri": "https://localhost:8080/",
          "height": 404
        },
        "id": "js79EQ0OPACw",
        "outputId": "0597206f-6824-4568-cdf2-90a2e3d73f37"
      },
      "source": [
        "plt.figure(\"train\", (12, 6))\n",
        "plt.subplot(1, 2, 1)\n",
        "plt.title(\"Epoch Average Loss\")\n",
        "x = [i + 1 for i in range(len(epoch_loss_values))]\n",
        "y = epoch_loss_values\n",
        "plt.xlabel(\"epoch\")\n",
        "plt.plot(x, y)\n",
        "plt.subplot(1, 2, 2)\n",
        "plt.title(\"Val AUC\")\n",
        "x = [val_interval * (i + 1) for i in range(len(metric_values))]\n",
        "y = metric_values\n",
        "plt.xlabel(\"epoch\")\n",
        "plt.plot(x, y)\n",
        "plt.show()"
      ],
      "execution_count": 14,
      "outputs": [
        {
          "output_type": "display_data",
          "data": {
            "image/png": "[encoded data removed]",
            "text/plain": [
              "<Figure size 864x432 with 2 Axes>"
            ]
          },
          "metadata": {
            "tags": [],
            "needs_background": "light"
          }
        }
      ]
    },
    {
      "cell_type": "markdown",
      "metadata": {
        "id": "TaREkabwP4RP"
      },
      "source": [
        "# Evaluar el modelo en el conjunto de datos de prueba\n",
        "Después del entrenamiento y la validación, ya obtuvimos el mejor modelo en la prueba de validación.\n",
        "Necesitamos evaluar el modelo en el conjunto de datos de prueba para verificar si es robusto y no se ajusta demasiado.\n",
        "Usaremos estas predicciones para generar un informe de clasificación."
      ]
    },
    {
      "cell_type": "code",
      "metadata": {
        "id": "gF-TqTZXPZUG"
      },
      "source": [
        "model.load_state_dict(torch.load(\n",
        "    os.path.join(root_dir, \"best_metric_model.pth\")))\n",
        "model.eval()\n",
        "y_true = []\n",
        "y_pred = []\n",
        "with torch.no_grad():\n",
        "    for test_data in test_loader:\n",
        "        test_images, test_labels = (\n",
        "            test_data[0].to(device),\n",
        "            test_data[1].to(device),\n",
        "        )\n",
        "        pred = model(test_images).argmax(dim=1)\n",
        "        for i in range(len(pred)):\n",
        "            y_true.append(test_labels[i].item())\n",
        "            y_pred.append(pred[i].item())"
      ],
      "execution_count": 15,
      "outputs": []
    },
    {
      "cell_type": "code",
      "metadata": {
        "colab": {
          "base_uri": "https://localhost:8080/"
        },
        "id": "UQz2yuqbP9hn",
        "outputId": "1bbfb92a-768a-4070-e326-426a83ea79dd"
      },
      "source": [
        "\n",
        "print(classification_report(\n",
        "    y_true, y_pred, target_names=class_names, digits=4))"
      ],
      "execution_count": 16,
      "outputs": [
        {
          "output_type": "stream",
          "text": [
            "              precision    recall  f1-score   support\n",
            "\n",
            "   AbdomenCT     0.9960    0.9899    0.9929       995\n",
            "   BreastMRI     1.0000    0.9966    0.9983       880\n",
            "         CXR     0.9990    0.9898    0.9944       982\n",
            "     ChestCT     0.9922    1.0000    0.9961      1014\n",
            "        Hand     0.9905    0.9924    0.9914      1048\n",
            "      HeadCT     0.9909    0.9990    0.9949       976\n",
            "\n",
            "    accuracy                         0.9946      5895\n",
            "   macro avg     0.9947    0.9946    0.9947      5895\n",
            "weighted avg     0.9946    0.9946    0.9946      5895\n",
            "\n"
          ],
          "name": "stdout"
        }
      ]
    },
    {
      "cell_type": "markdown",
      "metadata": {
        "id": "QjSFipV5QD4E"
      },
      "source": [
        "# Limpieza de directorio de datos\n",
        "Elimine el directorio si se utilizó un temporal."
      ]
    },
    {
      "cell_type": "code",
      "metadata": {
        "id": "_zpW75V8QALY"
      },
      "source": [
        "if directory is None:\n",
        "    shutil.rmtree(root_dir)"
      ],
      "execution_count": null,
      "outputs": []
    }
  ]
}